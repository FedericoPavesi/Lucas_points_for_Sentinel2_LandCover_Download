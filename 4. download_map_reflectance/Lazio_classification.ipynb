{
 "cells": [
  {
   "cell_type": "code",
   "execution_count": 1,
   "id": "b1bfab53",
   "metadata": {},
   "outputs": [],
   "source": [
    "import ee\n",
    "from osgeo import ogr\n",
    "import geopandas as gpd\n",
    "import geemap\n",
    "from geemap import ml\n",
    "import pickle\n",
    "\n",
    "\n",
    "ee.Initialize()"
   ]
  },
  {
   "cell_type": "code",
   "execution_count": 3,
   "id": "338911c7",
   "metadata": {},
   "outputs": [
    {
     "data": {
      "text/plain": [
       "[{'name': 'projects/earthengine-legacy/operations/RJ6LYQGGGJSOHSR5ZGFLBG5A',\n",
       "  'metadata': {'@type': 'type.googleapis.com/google.earthengine.v1alpha.OperationMetadata',\n",
       "   'state': 'SUCCEEDED',\n",
       "   'description': 'Lazio_2018',\n",
       "   'createTime': '2022-06-01T13:19:33.006429Z',\n",
       "   'updateTime': '2022-06-01T14:57:05.880694Z',\n",
       "   'startTime': '2022-06-01T13:19:40.365644Z',\n",
       "   'endTime': '2022-06-01T14:57:05.880694Z',\n",
       "   'type': 'EXPORT_IMAGE',\n",
       "   'destinationUris': ['https://drive.google.com/#folders/1ylCKycX24ELqv1RU9_clkAFSEQ4wflu9'],\n",
       "   'attempt': 1,\n",
       "   'progress': 1,\n",
       "   'stages': [{'displayName': 'Create Local Files',\n",
       "     'completeWorkUnits': 1,\n",
       "     'totalWorkUnits': '1',\n",
       "     'description': 'Computation and writing of temporary files.'},\n",
       "    {'displayName': 'Write Files to Destination',\n",
       "     'completeWorkUnits': 1,\n",
       "     'totalWorkUnits': '1',\n",
       "     'description': 'Uploading of files to the export destination.'}],\n",
       "   'batchEecuUsageSeconds': 237112.59375},\n",
       "  'done': True,\n",
       "  'response': {'@type': 'type.googleapis.com/google.protobuf.Empty'}},\n",
       " {'name': 'projects/earthengine-legacy/operations/DMLS4BTHRVSPLYMYZ3O6PTAS',\n",
       "  'metadata': {'@type': 'type.googleapis.com/google.earthengine.v1alpha.OperationMetadata',\n",
       "   'state': 'SUCCEEDED',\n",
       "   'description': 'Lazio_2018',\n",
       "   'createTime': '2022-05-30T15:53:03.686791Z',\n",
       "   'updateTime': '2022-05-30T16:45:31.211204Z',\n",
       "   'startTime': '2022-05-30T15:53:08.494036Z',\n",
       "   'endTime': '2022-05-30T16:45:31.211204Z',\n",
       "   'type': 'EXPORT_IMAGE',\n",
       "   'destinationUris': ['https://drive.google.com/#folders/1ylCKycX24ELqv1RU9_clkAFSEQ4wflu9'],\n",
       "   'attempt': 1,\n",
       "   'progress': 1,\n",
       "   'stages': [{'displayName': 'Create Local Files',\n",
       "     'completeWorkUnits': 1,\n",
       "     'totalWorkUnits': '1',\n",
       "     'description': 'Computation and writing of temporary files.'},\n",
       "    {'displayName': 'Write Files to Destination',\n",
       "     'completeWorkUnits': 1,\n",
       "     'totalWorkUnits': '1',\n",
       "     'description': 'Uploading of files to the export destination.'}],\n",
       "   'batchEecuUsageSeconds': 162371.890625},\n",
       "  'done': True,\n",
       "  'response': {'@type': 'type.googleapis.com/google.protobuf.Empty'}},\n",
       " {'name': 'projects/earthengine-legacy/operations/3ZVZT5W4XIJEI6F6LO5TFUEW',\n",
       "  'metadata': {'@type': 'type.googleapis.com/google.earthengine.v1alpha.OperationMetadata',\n",
       "   'state': 'FAILED',\n",
       "   'description': 'Lazio_2018',\n",
       "   'createTime': '2022-05-30T08:12:40.815347Z',\n",
       "   'updateTime': '2022-05-30T12:03:28.912527Z',\n",
       "   'startTime': '2022-05-30T11:34:51.311188Z',\n",
       "   'endTime': '2022-05-30T12:03:28.912527Z',\n",
       "   'type': 'EXPORT_IMAGE',\n",
       "   'attempt': 5,\n",
       "   'progress': 0.7125547863349381,\n",
       "   'stages': [{'displayName': 'Create Local Files',\n",
       "     'completeWorkUnits': 4.987883504344566,\n",
       "     'totalWorkUnits': '6',\n",
       "     'description': 'Computation and writing of temporary files.'},\n",
       "    {'displayName': 'Write Files to Destination',\n",
       "     'totalWorkUnits': '1',\n",
       "     'description': 'Uploading of files to the export destination.'}]},\n",
       "  'done': True,\n",
       "  'error': {'code': 13, 'message': 'Internal error.'}},\n",
       " {'name': 'projects/earthengine-legacy/operations/VNP224QHU4NHCT7DNAJCMHI5',\n",
       "  'metadata': {'@type': 'type.googleapis.com/google.earthengine.v1alpha.OperationMetadata',\n",
       "   'state': 'SUCCEEDED',\n",
       "   'description': 'Lazio_2018',\n",
       "   'createTime': '2022-05-29T20:01:55.396117Z',\n",
       "   'updateTime': '2022-05-29T22:14:22.288394Z',\n",
       "   'startTime': '2022-05-29T21:35:59.524587Z',\n",
       "   'endTime': '2022-05-29T22:14:22.288394Z',\n",
       "   'type': 'EXPORT_IMAGE',\n",
       "   'destinationUris': ['https://drive.google.com/#folders/1ylCKycX24ELqv1RU9_clkAFSEQ4wflu9'],\n",
       "   'attempt': 5,\n",
       "   'progress': 1,\n",
       "   'stages': [{'displayName': 'Create Local Files',\n",
       "     'completeWorkUnits': 6,\n",
       "     'totalWorkUnits': '6',\n",
       "     'description': 'Computation and writing of temporary files.'},\n",
       "    {'displayName': 'Write Files to Destination',\n",
       "     'completeWorkUnits': 1,\n",
       "     'totalWorkUnits': '1',\n",
       "     'description': 'Uploading of files to the export destination.'}],\n",
       "   'batchEecuUsageSeconds': 192411.09375},\n",
       "  'done': True,\n",
       "  'response': {'@type': 'type.googleapis.com/google.protobuf.Empty'}},\n",
       " {'name': 'projects/earthengine-legacy/operations/TJJ53HHIJIKEBLHYMK2M3UAV',\n",
       "  'metadata': {'@type': 'type.googleapis.com/google.earthengine.v1alpha.OperationMetadata',\n",
       "   'state': 'FAILED',\n",
       "   'description': 'Lazio_2018',\n",
       "   'createTime': '2022-05-28T14:16:16.372459Z',\n",
       "   'updateTime': '2022-05-28T15:43:06.344500Z',\n",
       "   'startTime': '2022-05-28T14:41:56.479067Z',\n",
       "   'endTime': '2022-05-28T15:43:06.344500Z',\n",
       "   'type': 'EXPORT_IMAGE',\n",
       "   'attempt': 2,\n",
       "   'progress': 0.8571428571428571,\n",
       "   'stages': [{'displayName': 'Create Local Files',\n",
       "     'completeWorkUnits': 6,\n",
       "     'totalWorkUnits': '6',\n",
       "     'description': 'Computation and writing of temporary files.'},\n",
       "    {'displayName': 'Write Files to Destination',\n",
       "     'totalWorkUnits': '1',\n",
       "     'description': 'Uploading of files to the export destination.'}]},\n",
       "  'done': True,\n",
       "  'error': {'code': 3,\n",
       "   'message': 'Not enough space in Google Drive (need 9.1GB for this export).'}},\n",
       " {'name': 'projects/earthengine-legacy/operations/KIFKY7OFXAODFEVUHWOHTNXF',\n",
       "  'metadata': {'@type': 'type.googleapis.com/google.earthengine.v1alpha.OperationMetadata',\n",
       "   'state': 'FAILED',\n",
       "   'description': 'Lazio_2018',\n",
       "   'createTime': '2022-05-28T12:53:09.164036Z',\n",
       "   'updateTime': '2022-05-28T13:38:13.773539Z',\n",
       "   'startTime': '2022-05-28T12:53:17.530620Z',\n",
       "   'endTime': '2022-05-28T13:38:13.773539Z',\n",
       "   'type': 'EXPORT_IMAGE',\n",
       "   'attempt': 1,\n",
       "   'progress': 0.5,\n",
       "   'stages': [{'displayName': 'Create Local Files',\n",
       "     'completeWorkUnits': 1,\n",
       "     'totalWorkUnits': '1',\n",
       "     'description': 'Computation and writing of temporary files.'},\n",
       "    {'displayName': 'Write Files to Destination',\n",
       "     'totalWorkUnits': '1',\n",
       "     'description': 'Uploading of files to the export destination.'}]},\n",
       "  'done': True,\n",
       "  'error': {'code': 3,\n",
       "   'message': 'Not enough space in Google Drive (need 6.9GB for this export).'}},\n",
       " {'name': 'projects/earthengine-legacy/operations/A6XUXFPGXGYTZHIMDHKZUZSQ',\n",
       "  'metadata': {'@type': 'type.googleapis.com/google.earthengine.v1alpha.OperationMetadata',\n",
       "   'state': 'FAILED',\n",
       "   'description': 'Lazio_2018',\n",
       "   'createTime': '2022-05-28T10:54:45.541332Z',\n",
       "   'updateTime': '2022-05-28T11:27:05.276296Z',\n",
       "   'startTime': '2022-05-28T10:54:59.880792Z',\n",
       "   'endTime': '2022-05-28T11:27:05.276296Z',\n",
       "   'type': 'EXPORT_IMAGE',\n",
       "   'attempt': 1,\n",
       "   'progress': 0.5,\n",
       "   'stages': [{'displayName': 'Create Local Files',\n",
       "     'completeWorkUnits': 1,\n",
       "     'totalWorkUnits': '1',\n",
       "     'description': 'Computation and writing of temporary files.'},\n",
       "    {'displayName': 'Write Files to Destination',\n",
       "     'totalWorkUnits': '1',\n",
       "     'description': 'Uploading of files to the export destination.'}]},\n",
       "  'done': True,\n",
       "  'error': {'code': 3,\n",
       "   'message': 'Not enough space in Google Drive (need 7.0GB for this export).'}},\n",
       " {'name': 'projects/earthengine-legacy/operations/SUS4M2S4FFUMFXO42B2X7U5Y',\n",
       "  'metadata': {'@type': 'type.googleapis.com/google.earthengine.v1alpha.OperationMetadata',\n",
       "   'state': 'FAILED',\n",
       "   'description': 'Lazio_2018',\n",
       "   'createTime': '2022-05-26T12:38:36.584083Z',\n",
       "   'updateTime': '2022-05-26T14:56:37.392398Z',\n",
       "   'startTime': '2022-05-26T12:38:57.168696Z',\n",
       "   'endTime': '2022-05-26T14:56:37.392398Z',\n",
       "   'type': 'EXPORT_IMAGE',\n",
       "   'attempt': 1,\n",
       "   'progress': 0.5,\n",
       "   'stages': [{'displayName': 'Create Local Files',\n",
       "     'completeWorkUnits': 1,\n",
       "     'totalWorkUnits': '1',\n",
       "     'description': 'Computation and writing of temporary files.'},\n",
       "    {'displayName': 'Write Files to Destination',\n",
       "     'totalWorkUnits': '1',\n",
       "     'description': 'Uploading of files to the export destination.'}]},\n",
       "  'done': True,\n",
       "  'error': {'code': 3,\n",
       "   'message': 'Not enough space in Google Drive (need 56GB for this export).'}},\n",
       " {'name': 'projects/earthengine-legacy/operations/MVCPDFCUYUGBB3MVO64VJWHX',\n",
       "  'metadata': {'@type': 'type.googleapis.com/google.earthengine.v1alpha.OperationMetadata',\n",
       "   'state': 'FAILED',\n",
       "   'description': 'Lazio_2018',\n",
       "   'createTime': '2022-05-26T12:23:24.307704Z',\n",
       "   'updateTime': '2022-05-26T12:28:57.490746Z',\n",
       "   'startTime': '2022-05-26T12:28:57.039604Z',\n",
       "   'endTime': '2022-05-26T12:28:57.490746Z',\n",
       "   'type': 'EXPORT_IMAGE',\n",
       "   'attempt': 2},\n",
       "  'done': True,\n",
       "  'error': {'code': 3,\n",
       "   'message': 'Export too large: specified 62314055196 pixels (max: 10000000000). Specify higher maxPixels value if you intend to export a large area.'}}]"
      ]
     },
     "execution_count": 3,
     "metadata": {},
     "output_type": "execute_result"
    }
   ],
   "source": [
    "# USE THIS CHUNK TO CHECK OPERATION STATUS IF YOU QUITTED NOTEBOOK\n",
    "\n",
    "#ee.data.listOperations()"
   ]
  },
  {
   "cell_type": "code",
   "execution_count": 2,
   "id": "b7c855d0",
   "metadata": {},
   "outputs": [],
   "source": [
    "# SOME REFERENCES\n",
    "\n",
    "# https://courses.spatialthoughts.com/end-to-end-gee.html\n",
    "# https://machinelearningmastery.com/save-load-machine-learning-models-python-scikit-learn/\n",
    "# https://developers.google.com/earth-engine/guides/machine-learning\n",
    "# https://geemap.org/notebooks/46_local_rf_training/#train-a-model-locally-using-scikit-learn"
   ]
  },
  {
   "cell_type": "code",
   "execution_count": 11,
   "id": "8be20b80",
   "metadata": {},
   "outputs": [],
   "source": [
    "path = 'C:/Users/drikb/Desktop/Tirocinio/EarthEngine/'\n",
    "geobounds = gpd.read_file(path + 'Lazio_polygon.shp')"
   ]
  },
  {
   "cell_type": "code",
   "execution_count": 35,
   "id": "1d7f796c",
   "metadata": {},
   "outputs": [],
   "source": [
    "lazio_shape = geobounds['geometry'].iloc[0]\n",
    "lazio_list = []\n",
    "for polygon in lazio_shape.geoms:\n",
    "    lazio_list.append([[x, y] for x, y in zip(polygon.exterior.xy[0], polygon.exterior.xy[1])])"
   ]
  },
  {
   "cell_type": "code",
   "execution_count": 36,
   "id": "953cc82a",
   "metadata": {},
   "outputs": [],
   "source": [
    "poly = ee.Geometry.MultiPolygon(lazio_list, 'EPSG:4326')"
   ]
  },
  {
   "cell_type": "code",
   "execution_count": 37,
   "id": "df00421f",
   "metadata": {},
   "outputs": [],
   "source": [
    "start_date = '2018-01-01'\n",
    "end_date = '2018-12-31'\n",
    "lowresbands = ['B5', 'B6', 'B7', 'B8A', 'B1', 'B9', 'B11', 'B12']\n",
    "bands = ['B4', 'B3', 'B2', 'B8', 'B5', 'B6', 'B7', 'B8A', 'B1', 'B9', 'B11', 'B12']"
   ]
  },
  {
   "cell_type": "code",
   "execution_count": 38,
   "id": "bdf9f447",
   "metadata": {},
   "outputs": [],
   "source": [
    "lazio_2018_coll = (ee.ImageCollection('COPERNICUS/S2_SR')\n",
    "                  .filterBounds(poly)\n",
    "                  .filterDate(start_date, end_date)\n",
    "                  .filter(ee.Filter.lte('CLOUDY_PIXEL_PERCENTAGE', 30)))"
   ]
  },
  {
   "cell_type": "code",
   "execution_count": 39,
   "id": "4344016f",
   "metadata": {},
   "outputs": [],
   "source": [
    "projection = lazio_2018_coll.first().select('B4').projection()"
   ]
  },
  {
   "cell_type": "code",
   "execution_count": 40,
   "id": "5f277153",
   "metadata": {},
   "outputs": [],
   "source": [
    "lazio_2018 = lazio_2018_coll.select(bands).reduce(ee.Reducer.median())"
   ]
  },
  {
   "cell_type": "code",
   "execution_count": 41,
   "id": "aac8090d",
   "metadata": {},
   "outputs": [],
   "source": [
    "lazio_2018 = lazio_2018.clip(poly)"
   ]
  },
  {
   "cell_type": "code",
   "execution_count": null,
   "id": "c218f256",
   "metadata": {},
   "outputs": [],
   "source": [
    "lazio_2018 = lazio_2018.uint16()"
   ]
  },
  {
   "cell_type": "code",
   "execution_count": 42,
   "id": "a859c3bd",
   "metadata": {},
   "outputs": [],
   "source": [
    "Map = geemap.Map()"
   ]
  },
  {
   "cell_type": "code",
   "execution_count": 43,
   "id": "c647d1d1",
   "metadata": {},
   "outputs": [],
   "source": [
    "vizParams = {\n",
    "  'bands': ['B4', 'B3', 'B2'],\n",
    "  'min': 0,\n",
    "  'max': 3000\n",
    "}"
   ]
  },
  {
   "cell_type": "code",
   "execution_count": 44,
   "id": "133f2568",
   "metadata": {},
   "outputs": [],
   "source": [
    "Map.addLayer(lazio_2018, vizParams, 'Median Map')"
   ]
  },
  {
   "cell_type": "code",
   "execution_count": 45,
   "id": "4ce2a59f",
   "metadata": {},
   "outputs": [
    {
     "data": {
      "application/vnd.jupyter.widget-view+json": {
       "model_id": "aee195ba149743a6b97ed314549dcc06",
       "version_major": 2,
       "version_minor": 0
      },
      "text/plain": [
       "Map(center=[20, 0], controls=(WidgetControl(options=['position', 'transparent_bg'], widget=HBox(children=(Togg…"
      ]
     },
     "metadata": {},
     "output_type": "display_data"
    }
   ],
   "source": [
    "Map"
   ]
  },
  {
   "cell_type": "code",
   "execution_count": 47,
   "id": "5bb92192",
   "metadata": {},
   "outputs": [],
   "source": [
    "task = ee.batch.Export.image.toDrive(lazio_2018,\n",
    "                                    description = 'Lazio_2018',\n",
    "                                     folder = 'EE_images',\n",
    "                                     fileFormat = 'GeoTIFF',\n",
    "                                     crs = projection.crs(),\n",
    "                                     scale = 10,\n",
    "                                    maxPixels = 62314055196)"
   ]
  },
  {
   "cell_type": "code",
   "execution_count": 48,
   "id": "07f42205",
   "metadata": {},
   "outputs": [],
   "source": [
    "task.start()"
   ]
  },
  {
   "cell_type": "code",
   "execution_count": 50,
   "id": "e04aa6f2",
   "metadata": {},
   "outputs": [
    {
     "data": {
      "text/plain": [
       "{'state': 'RUNNING',\n",
       " 'description': 'Lazio_2018',\n",
       " 'creation_timestamp_ms': 1654089573006,\n",
       " 'update_timestamp_ms': 1654091026794,\n",
       " 'start_timestamp_ms': 1654089580365,\n",
       " 'task_type': 'EXPORT_IMAGE',\n",
       " 'attempt': 1,\n",
       " 'id': 'RJ6LYQGGGJSOHSR5ZGFLBG5A',\n",
       " 'name': 'projects/earthengine-legacy/operations/RJ6LYQGGGJSOHSR5ZGFLBG5A'}"
      ]
     },
     "execution_count": 50,
     "metadata": {},
     "output_type": "execute_result"
    }
   ],
   "source": [
    "task.status()"
   ]
  }
 ],
 "metadata": {
  "kernelspec": {
   "display_name": "Python 3 (ipykernel)",
   "language": "python",
   "name": "python3"
  },
  "language_info": {
   "codemirror_mode": {
    "name": "ipython",
    "version": 3
   },
   "file_extension": ".py",
   "mimetype": "text/x-python",
   "name": "python",
   "nbconvert_exporter": "python",
   "pygments_lexer": "ipython3",
   "version": "3.8.13"
  }
 },
 "nbformat": 4,
 "nbformat_minor": 5
}
